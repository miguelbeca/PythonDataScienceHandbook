{
  "nbformat": 4,
  "nbformat_minor": 0,
  "metadata": {
    "colab": {
      "name": "Restaurante Queue - Discrete Event Simulation.ipynb",
      "provenance": [],
      "authorship_tag": "ABX9TyOFnV2C48aJjgx5Z7Z0W9r/",
      "include_colab_link": true
    },
    "kernelspec": {
      "name": "python3",
      "display_name": "Python 3"
    }
  },
  "cells": [
    {
      "cell_type": "markdown",
      "metadata": {
        "id": "view-in-github",
        "colab_type": "text"
      },
      "source": [
        "<a href=\"https://colab.research.google.com/github/miguelbeca/PythonDataScienceHandbook/blob/master/Restaurante_Queue_Discrete_Event_Simulation.ipynb\" target=\"_parent\"><img src=\"https://colab.research.google.com/assets/colab-badge.svg\" alt=\"Open In Colab\"/></a>"
      ]
    },
    {
      "cell_type": "code",
      "metadata": {
        "id": "F18nPY_2RqS2",
        "colab_type": "code",
        "colab": {}
      },
      "source": [
        "from queue import Queue\n",
        "from random import seed\n",
        "from random import randint"
      ],
      "execution_count": 0,
      "outputs": []
    },
    {
      "cell_type": "code",
      "metadata": {
        "id": "48pg3dLATKlt",
        "colab_type": "code",
        "colab": {}
      },
      "source": [
        "#Define class to hold customer events\n",
        "class CustomerEvent:\n",
        "    def __init__(self, customer_id, event, arrival_time, departure_time=None):\n",
        "        self.customer_id = customer_id #customer id\n",
        "        self.event = event # can be either arrival or departure\n",
        "        self.arrival_time = arrival_time\n",
        "        self.departure_time = departure_time\n",
        "        \n",
        "    def printCustomerEvent(self):\n",
        "        print(\"Customer ID: {}\".format(self.customer_id))\n",
        "        print(\"Event: {}\".format(self.event))\n",
        "        print(\"Arrival Time: {}\".format(self.arrival_time))\n",
        "        print(\"Departure Time: {}\".format(self.departure_time))"
      ],
      "execution_count": 0,
      "outputs": []
    },
    {
      "cell_type": "code",
      "metadata": {
        "id": "98rKGXDPTNAT",
        "colab_type": "code",
        "colab": {}
      },
      "source": [
        "#Define class Restaurant to hold global variables\n",
        "class Restaurant:\n",
        "    def __init__(self):\n",
        "        self.server_busy = False\n",
        "        self.FEL = []\n",
        "        self.wait_queue = Queue()\n",
        "        self.clock = 0\n",
        "        self.customer_id = 1 #used to generate unique customer ID numbers\n",
        "        self.customer_count = 1\n",
        "        self.max_customers = 10\n",
        "        self.customer_stats = []"
      ],
      "execution_count": 0,
      "outputs": []
    },
    {
      "cell_type": "code",
      "metadata": {
        "id": "OqIfi09FTObi",
        "colab_type": "code",
        "colab": {}
      },
      "source": [
        "#Function to print out contents of Future Events List\n",
        "#Used for debugging\n",
        "def print_FEL(FEL):\n",
        "    for event in FEL:\n",
        "        event.printCustomerEvent()"
      ],
      "execution_count": 0,
      "outputs": []
    },
    {
      "cell_type": "code",
      "metadata": {
        "id": "dx2HcqSaTRHq",
        "colab_type": "code",
        "colab": {}
      },
      "source": [
        "#Variables Initialization\n",
        "#Initialize global variables\n",
        "rest = Restaurant()\n",
        "seed(10) #Random number generator seed"
      ],
      "execution_count": 0,
      "outputs": []
    },
    {
      "cell_type": "code",
      "metadata": {
        "id": "DT0x2vbuTS9a",
        "colab_type": "code",
        "colab": {}
      },
      "source": [
        "#Model Arrivals function\n",
        "def model_arrival(cust_event, rest):\n",
        "\n",
        "    if (rest.customer_count < rest.max_customers):\n",
        "        #Add next arrival event to EFL\n",
        "        arrival_time2 = rest.clock + randint(1,60)\n",
        "        new_customer = CustomerEvent(rest.customer_id, 'arrival', arrival_time2)\n",
        "        rest.FEL.append(new_customer)\n",
        "        rest.customer_id +=1\n",
        "        rest.customer_count +=1\n",
        "        #If server is busy add it to the wait queue\n",
        "        if (rest.server_busy == True):\n",
        "            rest.wait_queue.put(cust_event)\n",
        "        else:\n",
        "            rest.server_busy = True\n",
        "            #schedule customer departure and add to FEL\n",
        "            cust_event.event = 'departure'\n",
        "            departure_time = cust_event.arrival_time + randint(1,60)\n",
        "            cust_event.departure_time = departure_time\n",
        "            rest.FEL.append(cust_event)"
      ],
      "execution_count": 0,
      "outputs": []
    },
    {
      "cell_type": "code",
      "metadata": {
        "id": "GqDPp5f3TW9c",
        "colab_type": "code",
        "colab": {}
      },
      "source": [
        "#Model departures function\n",
        "def model_departure(cust_event, rest):\n",
        "    #Get stats on customer\n",
        "    cust_statistics = {'id':cust_event.customer_id,\n",
        "                       'arrival': cust_event.arrival_time,\n",
        "                       'departure': cust_event.departure_time,\n",
        "                       'time_spent': (cust_event.departure_time-cust_event.arrival_time)\n",
        "                        }\n",
        "    #Add individual statistics to list\n",
        "    rest.customer_stats.append(cust_statistics)\n",
        "    \n",
        "    #If queue is empty, then server is set to idle. Otherwise, process events in queue\n",
        "    if (rest.wait_queue.empty()):\n",
        "        rest.server_busy = False\n",
        "    else:\n",
        "        wait_list_event = rest.wait_queue.get()\n",
        "        #schedule customer departure and add to FEL\n",
        "        wait_list_event.event = 'departure'\n",
        "        departure_time = wait_list_event.arrival_time + randint(1,60)\n",
        "        wait_list_event.departure_time = departure_time\n",
        "        rest.FEL.append(wait_list_event)"
      ],
      "execution_count": 0,
      "outputs": []
    },
    {
      "cell_type": "code",
      "metadata": {
        "id": "axOAbt_JTYrJ",
        "colab_type": "code",
        "colab": {}
      },
      "source": [
        "#Generate first customer arrival\n",
        "arrival_time_1 = rest.clock + randint(1,60)\n",
        "customer_1 = CustomerEvent(rest.customer_id, 'arrival', arrival_time_1)\n",
        "rest.customer_id +=1\n",
        "\n",
        "#Add first arrival to FEL\n",
        "rest.FEL.append(customer_1)"
      ],
      "execution_count": 0,
      "outputs": []
    },
    {
      "cell_type": "code",
      "metadata": {
        "id": "k4F25w0MTaxL",
        "colab_type": "code",
        "colab": {
          "base_uri": "https://localhost:8080/",
          "height": 219
        },
        "outputId": "5f682227-eb99-4ce6-dd46-ef55492eac3c"
      },
      "source": [
        "#Main loop\n",
        "while rest.FEL:\n",
        "    cust_event = rest.FEL[0] #since we append events to the list, first event is the one to be processed\n",
        "    rest.FEL.pop(0)\n",
        "    rest.clock = cust_event.arrival_time\n",
        "    if (cust_event.event == 'arrival'):\n",
        "        model_arrival(cust_event, rest)\n",
        "    else:\n",
        "        model_departure(cust_event, rest)\n",
        "\n",
        "#Print customer statistics\n",
        "time_spent_sum = 0\n",
        "for dict_item in rest.customer_stats:\n",
        "        print(\"Customer ID: {} - Arrival Time: {} - Departure Time: {} - Time spent: {}\".format(dict_item['id'], \\\n",
        "               dict_item['arrival'],  dict_item['departure'], dict_item['time_spent']))\n",
        "        time_spent_sum += dict_item['time_spent']\n",
        "nr_customers_served = len(rest.customer_stats)\n",
        "print(\"Total number of customers: {}\".format(nr_customers_served))\n",
        "print(\"Average time spent per customer: {:.2f}\".format(time_spent_sum/nr_customers_served))"
      ],
      "execution_count": 9,
      "outputs": [
        {
          "output_type": "stream",
          "text": [
            "Customer ID: 1 - Arrival Time: 37 - Departure Time: 65 - Time spent: 28\n",
            "Customer ID: 2 - Arrival Time: 40 - Departure Time: 77 - Time spent: 37\n",
            "Customer ID: 3 - Arrival Time: 71 - Departure Time: 85 - Time spent: 14\n",
            "Customer ID: 4 - Arrival Time: 72 - Departure Time: 125 - Time spent: 53\n",
            "Customer ID: 5 - Arrival Time: 102 - Departure Time: 155 - Time spent: 53\n",
            "Customer ID: 6 - Arrival Time: 134 - Departure Time: 176 - Time spent: 42\n",
            "Customer ID: 7 - Arrival Time: 152 - Departure Time: 163 - Time spent: 11\n",
            "Customer ID: 8 - Arrival Time: 204 - Departure Time: 238 - Time spent: 34\n",
            "Customer ID: 9 - Arrival Time: 207 - Departure Time: 228 - Time spent: 21\n",
            "Total number of customers: 9\n",
            "Average time spent per customer: 32.56\n"
          ],
          "name": "stdout"
        }
      ]
    },
    {
      "cell_type": "code",
      "metadata": {
        "id": "7M9T5wW4TeNy",
        "colab_type": "code",
        "colab": {}
      },
      "source": [
        ""
      ],
      "execution_count": 0,
      "outputs": []
    }
  ]
}