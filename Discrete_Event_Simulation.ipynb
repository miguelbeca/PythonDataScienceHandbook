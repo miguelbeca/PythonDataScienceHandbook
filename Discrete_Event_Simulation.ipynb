{
  "nbformat": 4,
  "nbformat_minor": 0,
  "metadata": {
    "colab": {
      "name": "Discrete Event Simulation.ipynb",
      "provenance": [],
      "authorship_tag": "ABX9TyOmLfgYFNtZM7+LM7FIzbWC",
      "include_colab_link": true
    },
    "kernelspec": {
      "name": "python3",
      "display_name": "Python 3"
    }
  },
  "cells": [
    {
      "cell_type": "markdown",
      "metadata": {
        "id": "view-in-github",
        "colab_type": "text"
      },
      "source": [
        "<a href=\"https://colab.research.google.com/github/miguelbeca/PythonDataScienceHandbook/blob/master/Discrete_Event_Simulation.ipynb\" target=\"_parent\"><img src=\"https://colab.research.google.com/assets/colab-badge.svg\" alt=\"Open In Colab\"/></a>"
      ]
    },
    {
      "cell_type": "code",
      "metadata": {
        "id": "SN2m7A1sz1Ca",
        "colab_type": "code",
        "colab": {}
      },
      "source": [
        "from queue import Queue\n",
        "from random import seed\n",
        "from random import randint"
      ],
      "execution_count": 0,
      "outputs": []
    },
    {
      "cell_type": "code",
      "metadata": {
        "id": "ojGf8Nai3AVw",
        "colab_type": "code",
        "colab": {}
      },
      "source": [
        "#Define customer class to hold customer events\n",
        "class Customer:\n",
        "    def __init__(self, customer_id, event, arrival_time, departure_time=None):\n",
        "        self.customer_id = customer_id #customer id\n",
        "        self.event = event # can be either arrival or departure\n",
        "        self.arrival_time = arrival_time\n",
        "        self.departure_time = departure_time"
      ],
      "execution_count": 0,
      "outputs": []
    },
    {
      "cell_type": "code",
      "metadata": {
        "id": "HeWbdnP83CxJ",
        "colab_type": "code",
        "colab": {}
      },
      "source": [
        "#Function to print out contents of Future Events List\n",
        "#Used for debugging\n",
        "def print_FEL(FEL):\n",
        "    for event in FEL:\n",
        "        print(\"Customer ID: {}\".format(event.customer_id))\n",
        "        print(\"Event: {}\".format(event.event))\n",
        "        print(\"Arrival Time: {}\".format(event.arrival_time))\n",
        "        print(\"Departure Time: {}\".format(event.departure_time))"
      ],
      "execution_count": 0,
      "outputs": []
    },
    {
      "cell_type": "code",
      "metadata": {
        "id": "6_B9EJrH3FVh",
        "colab_type": "code",
        "colab": {}
      },
      "source": [
        "#Variables Initialization\n",
        "wait_queue = Queue()\n",
        "server_busy = False\n",
        "clock = 0\n",
        "FEL = []\n",
        "max_customers = 10\n",
        "seed(1)\n",
        "#max_time = 500\n",
        "customer_id = 1\n",
        "customer_count = 1\n",
        "customer_stats = []"
      ],
      "execution_count": 0,
      "outputs": []
    },
    {
      "cell_type": "code",
      "metadata": {
        "id": "Cu4c3tYN3KB0",
        "colab_type": "code",
        "colab": {}
      },
      "source": [
        "#Model Arrivals function\n",
        "def model_arrival(cust_event):\n",
        "    global customer_count\n",
        "    global customer_id\n",
        "    global server_busy\n",
        "    global FEL\n",
        "\n",
        "    if (customer_count < max_customers):\n",
        "        #Add next arrival event to EFL\n",
        "        arrival_time2 = clock + randint(1,60)\n",
        "        #print(arrival_time2)\n",
        "        customer2 = Customer(customer_id, 'arrival', arrival_time2)\n",
        "        FEL.append(customer2)\n",
        "        customer_id +=1\n",
        "        customer_count +=1\n",
        "        #print_FEL(FEL)\n",
        "        #If server is busy add it to the wait queue\n",
        "        if (server_busy == True):\n",
        "            wait_queue.put(cust_event)\n",
        "        else:\n",
        "            server_busy = True\n",
        "            #schedule customer departure and add to FEL\n",
        "            cust_event.event = 'departure'\n",
        "            departure_time = cust_event.arrival_time + randint(1,60)\n",
        "            cust_event.departure_time = departure_time\n",
        "            FEL.append(cust_event)\n",
        "            #print_FEL(FEL)"
      ],
      "execution_count": 0,
      "outputs": []
    },
    {
      "cell_type": "code",
      "metadata": {
        "id": "ItCHApW93MQY",
        "colab_type": "code",
        "colab": {}
      },
      "source": [
        "#Model departures function\n",
        "def model_departure(cust_event):\n",
        "    #Get stats on customer\n",
        "    cust_statistics = {'id':cust_event.customer_id,\n",
        "                       'arrival': cust_event.arrival_time,\n",
        "                       'departure': cust_event.departure_time,\n",
        "                       'time_spent': (cust_event.departure_time-cust_event.arrival_time)\n",
        "                        }\n",
        "    #Add individual statistics to list\n",
        "    customer_stats.append(cust_statistics)\n",
        "    if (wait_queue.empty()):\n",
        "        server_busy = False\n",
        "    else:\n",
        "        wait_list_event = wait_queue.get()\n",
        "        #schedule customer departure and add to FEL\n",
        "        wait_list_event.event = 'departure'\n",
        "        departure_time = wait_list_event.arrival_time + randint(1,60)\n",
        "        wait_list_event.departure_time = departure_time\n",
        "        FEL.append(wait_list_event)\n",
        "        #print_FEL(FEL)"
      ],
      "execution_count": 0,
      "outputs": []
    },
    {
      "cell_type": "code",
      "metadata": {
        "id": "lUFZElTr3Obw",
        "colab_type": "code",
        "colab": {}
      },
      "source": [
        "#Generate first customer arrival\n",
        "arrival_time1 = clock + randint(1,60)\n",
        "customer1 = Customer(customer_id, 'arrival', arrival_time1)\n",
        "customer_id +=1\n",
        "\n",
        "\n",
        "#Add first arrival to FEL\n",
        "FEL.append(customer1)\n",
        "#print_FEL(FEL)"
      ],
      "execution_count": 0,
      "outputs": []
    },
    {
      "cell_type": "code",
      "metadata": {
        "id": "UZUo5Puc3RN7",
        "colab_type": "code",
        "colab": {
          "base_uri": "https://localhost:8080/",
          "height": 219
        },
        "outputId": "3904fd1e-0dd3-40e9-a72f-25d6e2d9f11a"
      },
      "source": [
        "#Main loop\n",
        "while FEL:\n",
        "    cust_event = FEL[0] #since we append events to the list, first event is the one to be processed\n",
        "    FEL.pop(0)\n",
        "    clock = cust_event.arrival_time\n",
        "    if (cust_event.event == 'arrival'):\n",
        "        model_arrival(cust_event)\n",
        "    else:\n",
        "        model_departure(cust_event)\n",
        "\n",
        "#Print customer statistics\n",
        "time_spent_sum = 0\n",
        "for dict_item in customer_stats:\n",
        "        print(\"Customer ID: {} - Arrival Time: {} - Departure Time: {} - Time spent: {}\".format(dict_item['id'], \\\n",
        "               dict_item['arrival'],  dict_item['departure'], dict_item['time_spent']))\n",
        "        time_spent_sum += dict_item['time_spent']\n",
        "        #print(\"Arrival Time: {}\".format(dict_item['arrival']))\n",
        "        #print(\"Departure Time: {}\".format(dict_item['departure']))\n",
        "        #print(\"Time spent: {}\".format(dict_item['time_spent']))\n",
        "nr_customers_served = len(customer_stats)\n",
        "print(\"Total number of customers: {}\".format(nr_customers_served))\n",
        "print(\"Average time spent per customer: {:.2f}\".format(time_spent_sum/nr_customers_served))"
      ],
      "execution_count": 8,
      "outputs": [
        {
          "output_type": "stream",
          "text": [
            "Customer ID: 1 - Arrival Time: 9 - Departure Time: 64 - Time spent: 55\n",
            "Customer ID: 2 - Arrival Time: 46 - Departure Time: 95 - Time spent: 49\n",
            "Customer ID: 3 - Arrival Time: 98 - Departure Time: 115 - Time spent: 17\n",
            "Customer ID: 4 - Arrival Time: 103 - Departure Time: 135 - Time spent: 32\n",
            "Customer ID: 5 - Arrival Time: 111 - Departure Time: 140 - Time spent: 29\n",
            "Customer ID: 6 - Arrival Time: 160 - Departure Time: 202 - Time spent: 42\n",
            "Customer ID: 7 - Arrival Time: 191 - Departure Time: 242 - Time spent: 51\n",
            "Customer ID: 8 - Arrival Time: 216 - Departure Time: 223 - Time spent: 7\n",
            "Customer ID: 9 - Arrival Time: 230 - Departure Time: 232 - Time spent: 2\n",
            "Total number of customers: 9\n",
            "Average time spent per customer: 31.56\n"
          ],
          "name": "stdout"
        }
      ]
    },
    {
      "cell_type": "code",
      "metadata": {
        "id": "xg4XlWpr3Vqh",
        "colab_type": "code",
        "colab": {}
      },
      "source": [
        ""
      ],
      "execution_count": 0,
      "outputs": []
    }
  ]
}